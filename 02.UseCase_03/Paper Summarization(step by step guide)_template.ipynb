{
 "cells": [
  {
   "cell_type": "markdown",
   "metadata": {},
   "source": [
    "# <div style=\"text-align: left; font-size: 30px;\">Paper Summarization Bot 🤖</div>\n",
    "<div style=\"text-align: left; font-size: 20px; color: gray;\">Supported by <strong>LangChain</strong> and <strong>IBM Watsonx</strong></div>\n"
   ]
  },
  {
   "cell_type": "markdown",
   "metadata": {},
   "source": [
    "### Table of Contents\n",
    "1. [Load PDF (paper as you want)](#load-pdf)\n",
    "2. [Connect to IBM Watsonx.ai and Initialize LLM Model](#connect-ibm-watsonx)\n",
    "3. [Make Semantic Chunking Using Watsonx Embedding Model](#semantic-chunking)\n",
    "4. [Apply Semantic Chunk](#apply-semantic-chunk)\n",
    "5. [Map Reduce Using LangChain](#map-reduce)"
   ]
  },
  {
   "cell_type": "markdown",
   "metadata": {},
   "source": [
    "<a id=\"load-pdf\"></a>\n",
    "## Load PDF (paper as you want)\n"
   ]
  },
  {
   "cell_type": "code",
   "execution_count": null,
   "metadata": {},
   "outputs": [],
   "source": [
    "# Import libraries\n",
    "import os\n",
    "from dotenv import load_dotenv\n",
    "from langchain.document_loaders import WebBaseLoader\n",
    "from langchain.chains.summarize import load_summarize_chain\n",
    "from ibm_watson_machine_learning.metanames import GenTextParamsMetaNames as GenParams\n",
    "from ibm_watson_machine_learning.foundation_models import Model\n",
    "from ibm_watson_machine_learning.foundation_models.extensions.langchain import WatsonxLLM\n",
    "from pydantic import field_validator\n",
    "from langchain import PromptTemplate # Langchain Prompt Template\n",
    "from langchain.chains import LLMChain, SimpleSequentialChain # Langchain Chains\n",
    "from langchain.document_loaders import PyPDFLoader\n",
    "from termcolor import colored"
   ]
  },
  {
   "cell_type": "markdown",
   "metadata": {},
   "source": [
    "#### PyPDFLoader를 이용하여 문서를 Load"
   ]
  },
  {
   "cell_type": "code",
   "execution_count": null,
   "metadata": {},
   "outputs": [],
   "source": [
    "#PyPDFLoader를 이용하여 문서를 Load\n",
    "\n"
   ]
  },
  {
   "cell_type": "markdown",
   "metadata": {},
   "source": [
    "<a id=\"connect-ibm-watsonx\"></a>\n",
    "## Connect to IBM Watsonx.ai and initialize LLM"
   ]
  },
  {
   "cell_type": "code",
   "execution_count": 1,
   "metadata": {},
   "outputs": [],
   "source": [
    "# Load the environment variables\n"
   ]
  },
  {
   "cell_type": "code",
   "execution_count": 2,
   "metadata": {},
   "outputs": [],
   "source": [
    "# watsonx model 초기화\n"
   ]
  },
  {
   "cell_type": "markdown",
   "metadata": {},
   "source": [
    "<a id=\"semantic-chunking\"></a>\n",
    "## Make Semantic Chunking Using Watsonx Embedding Model\n",
    "- Semantic chunking options\n",
    "    - `percentile` (default) — In this method, all differences between sentences are calculated, and then any difference greater than the X percentile is split.\n",
    "\n",
    "    - `standard_deviation` — In this method, any difference greater than X standard deviations is split.\n",
    "\n",
    "    - `interquartile` — In this method, the interquartile distance is used to split chunks.\n"
   ]
  },
  {
   "cell_type": "code",
   "execution_count": 3,
   "metadata": {},
   "outputs": [],
   "source": [
    "# 임베딩 모델 초기화\n"
   ]
  },
  {
   "cell_type": "markdown",
   "metadata": {},
   "source": [
    "<a id=\"apply-semantic-chunk\"></a>\n",
    "## Apply Semantic Chunk\n"
   ]
  },
  {
   "cell_type": "code",
   "execution_count": 5,
   "metadata": {},
   "outputs": [],
   "source": [
    "#Semantic Chunk 만들기 \n"
   ]
  },
  {
   "cell_type": "markdown",
   "metadata": {},
   "source": [
    "<a id=\"map-reduce\"></a>\n",
    "## Map Reduce Using LangChain\n"
   ]
  },
  {
   "cell_type": "code",
   "execution_count": null,
   "metadata": {},
   "outputs": [],
   "source": [
    "# 커스텀 LLM 만들기\n",
    "\n"
   ]
  },
  {
   "cell_type": "code",
   "execution_count": null,
   "metadata": {},
   "outputs": [],
   "source": [
    "#LangChain Map Reduce 구성하기\n",
    "\n"
   ]
  }
 ],
 "metadata": {
  "kernelspec": {
   "display_name": "Python 3 (ipykernel)",
   "language": "python",
   "name": "python3"
  },
  "language_info": {
   "codemirror_mode": {
    "name": "ipython",
    "version": 3
   },
   "file_extension": ".py",
   "mimetype": "text/x-python",
   "name": "python",
   "nbconvert_exporter": "python",
   "pygments_lexer": "ipython3",
   "version": "3.11.6"
  }
 },
 "nbformat": 4,
 "nbformat_minor": 4
}
