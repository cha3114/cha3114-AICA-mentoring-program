{
 "cells": [
  {
   "cell_type": "markdown",
   "metadata": {},
   "source": [
    "# Load Library"
   ]
  },
  {
   "cell_type": "code",
   "execution_count": 1,
   "metadata": {},
   "outputs": [],
   "source": [
    "#file read, 환경변수, 정규식\n",
    "import glob,os, re\n",
    "from dotenv import load_dotenv\n",
    "from tqdm import tqdm\n",
    "from typing import List, Any"
   ]
  },
  {
   "cell_type": "code",
   "execution_count": 3,
   "metadata": {},
   "outputs": [],
   "source": [
    "#!pip install pdfplumber\n",
    "#!pip install langchain_text_splitters\n",
    "#!pip install langchain_chroma\n",
    "#!pip install langchain_ibm\n",
    "# PDF 처리 및 텍스트 청킹\n",
    "import pdfplumber\n",
    "from langchain_core.documents import Document\n",
    "from langchain_text_splitters import RecursiveCharacterTextSplitter\n",
    "\n",
    "# 벡터 저장소 및 임베딩 모델\n",
    "from langchain_chroma import Chroma\n",
    "from langchain_ibm import WatsonxEmbeddings"
   ]
  },
  {
   "cell_type": "code",
   "execution_count": 4,
   "metadata": {},
   "outputs": [],
   "source": [
    "#langchain chain\n",
    "from langchain_core.runnables import RunnablePassthrough, RunnableConfig\n",
    "from langchain_core.output_parsers import StrOutputParser\n",
    "from langchain_core.prompts import PromptTemplate\n",
    "from ibm_watsonx_ai.metanames import EmbedTextParamsMetaNames\n",
    "from langchain_ibm import ChatWatsonx, WatsonxLLM"
   ]
  },
  {
   "cell_type": "code",
   "execution_count": 5,
   "metadata": {},
   "outputs": [
    {
     "data": {
      "text/plain": [
       "True"
      ]
     },
     "execution_count": 5,
     "metadata": {},
     "output_type": "execute_result"
    }
   ],
   "source": [
    "# 환경변수 로드(.env 파일 참고)\n",
    "load_dotenv(verbose=True)"
   ]
  },
  {
   "cell_type": "markdown",
   "metadata": {},
   "source": [
    "# 전자제품 사용설명서 처리"
   ]
  },
  {
   "cell_type": "markdown",
   "metadata": {},
   "source": [
    "# 전처리 코드"
   ]
  },
  {
   "cell_type": "code",
   "execution_count": 6,
   "metadata": {},
   "outputs": [],
   "source": [
    "text_splitter = RecursiveCharacterTextSplitter(\n",
    "    chunk_size=500, \n",
    "    chunk_overlap=150,\n",
    "    length_function=len,\n",
    "    is_separator_regex=False,\n",
    ")"
   ]
  },
  {
   "cell_type": "code",
   "execution_count": 7,
   "metadata": {},
   "outputs": [],
   "source": [
    "pdf_path=\"./data\""
   ]
  },
  {
   "cell_type": "code",
   "execution_count": 8,
   "metadata": {},
   "outputs": [],
   "source": [
    "def loadpreProcess(pdf_path:str, text_splitter:RecursiveCharacterTextSplitter) -> List[Document]:\n",
    "    \"\"\"경로 내 모든 PDF 파일 로드 및 청킹.\n",
    "\n",
    "    Args:\n",
    "        pdf_path (str): PDF 파일이 들어있는 경로\n",
    "        text_splitter (RecursiveCharacterTextSplitter): 텍스트 스플리터\n",
    "\n",
    "    Returns:\n",
    "        List[Document]: 청킹 완료된 모든 문서(metadatd 포함)\n",
    "    \"\"\"\n",
    "    pdf_files  = glob.glob(os.path.join(pdf_path, '*.pdf'))\n",
    "    pattern = r\"\\\\(.*?)\\.pdf\"\n",
    "    cellphone_docu=[]\n",
    "    for pdf_file in tqdm(pdf_files, desc=\"PDF 파일 로드 중 :\"):\n",
    "        product_name = re.findall(pattern, pdf_file)[0]\n",
    "        documents_page=[]\n",
    "        pdf = pdfplumber.open(pdf_file)\n",
    "        pages = pdf.pages\n",
    "        for page in pages:\n",
    "            page_index=\"\"\n",
    "            page_number=\"\"\n",
    "            page_text=\"\"\n",
    "            for texts in page.chars:\n",
    "                if texts.get('y0')>=806:\n",
    "                    #상단 index 추출\n",
    "                    page_index+=texts.get('text')\n",
    "                elif texts.get('y1')<=28:\n",
    "                    #상단 index 추출\n",
    "                    page_number+=texts.get('text')\n",
    "                else:\n",
    "                    page_text+=texts.get('text')\n",
    "            page_docu=Document(\n",
    "            page_content=page_text,\n",
    "            metadata={\"index\":page_index,\n",
    "                    \"product_name\":product_name,\n",
    "                    \"page\":page_number}\n",
    "            )\n",
    "            documents_page.append(page_docu)\n",
    "        spilt_doc=text_splitter.split_documents(documents_page)\n",
    "        cellphone_docu+=spilt_doc\n",
    "    return cellphone_docu"
   ]
  },
  {
   "cell_type": "code",
   "execution_count": 9,
   "metadata": {},
   "outputs": [
    {
     "name": "stderr",
     "output_type": "stream",
     "text": [
      "PDF 파일 로드 중 :: 100%|████████████████████████████████████████████████████████████████| 4/4 [00:34<00:00,  8.66s/it]\n"
     ]
    }
   ],
   "source": [
    "cellphone_docu=loadpreProcess(pdf_path, text_splitter)"
   ]
  },
  {
   "cell_type": "code",
   "execution_count": 24,
   "metadata": {},
   "outputs": [],
   "source": [
    "#for i in cellphone_docu:\n",
    "#    print(i)"
   ]
  },
  {
   "cell_type": "markdown",
   "metadata": {},
   "source": [
    "# Embedding Model & VectorDB"
   ]
  },
  {
   "cell_type": "code",
   "execution_count": 10,
   "metadata": {},
   "outputs": [],
   "source": [
    "EMBED_PARAMS = {\n",
    "    EmbedTextParamsMetaNames.TRUNCATE_INPUT_TOKENS: 512,\n",
    "    EmbedTextParamsMetaNames.RETURN_OPTIONS: {\"input_text\": True},\n",
    "}"
   ]
  },
  {
   "cell_type": "code",
   "execution_count": 11,
   "metadata": {},
   "outputs": [],
   "source": [
    "watsonx_embedding = WatsonxEmbeddings(\n",
    "    model_id=\"intfloat/multilingual-e5-large\",\n",
    "    url=os.getenv('IBM_CLOUD_URL'),\n",
    "    project_id=os.getenv('PROJECT_ID'),\n",
    "    apikey=\"t9oPtc-l3HMQH54UFeLvRfh5s_fnOg2az_C7Ss7mDiVT\",\n",
    "    params=EMBED_PARAMS,\n",
    ")"
   ]
  },
  {
   "cell_type": "code",
   "execution_count": 12,
   "metadata": {},
   "outputs": [
    {
     "name": "stderr",
     "output_type": "stream",
     "text": [
      "⚠️ It looks like you upgraded from a version below 0.6 and could benefit from vacuuming your database. Run chromadb utils vacuum --help for more information.\n"
     ]
    }
   ],
   "source": [
    "chroma_db=Chroma(embedding_function=watsonx_embedding, \n",
    "                 collection_name='manual_vector_db', \n",
    "                 persist_directory='./db/manual/chromadb_0',\n",
    "                 collection_metadata = {'hnsw:space': 'cosine'})"
   ]
  },
  {
   "cell_type": "code",
   "execution_count": 13,
   "metadata": {},
   "outputs": [],
   "source": [
    "def storeToDBInBatchs(db:Any, docs:List[Document], batch_size:int, reset_collection:bool):\n",
    "    \"\"\"커널 충돌 방지용 배치단위 DB저장(ChromaDB)\n",
    "\n",
    "    Args:\n",
    "        db (Any): ChromaDB\n",
    "        docs (List[Document]): 저장할 메뉴얼 문서 list\n",
    "        batch_size (int): 배치 사이즈\n",
    "        reset_collection (bool): 저장 전 컬렉션 리셋 여부\n",
    "    \"\"\"\n",
    "    if reset_collection:\n",
    "        db.reset_collection() #컬렉션 리셋\n",
    "        \n",
    "    for i in tqdm(range(0,len(docs),batch_size), desc=\"배치단위 메뉴얼 문서 저장 중 :\"):\n",
    "        batch = docs[i:i+batch_size]\n",
    "        db.add_documents(batch)"
   ]
  },
  {
   "cell_type": "code",
   "execution_count": 14,
   "metadata": {},
   "outputs": [
    {
     "name": "stderr",
     "output_type": "stream",
     "text": [
      "배치단위 메뉴얼 문서 저장 중 :: 100%|████████████████████████████████████████████████████| 2/2 [00:45<00:00, 22.72s/it]\n"
     ]
    }
   ],
   "source": [
    "storeToDBInBatchs(chroma_db, cellphone_docu, 1000, True)"
   ]
  },
  {
   "cell_type": "code",
   "execution_count": 15,
   "metadata": {},
   "outputs": [],
   "source": [
    "mmr_retriever=chroma_db.as_retriever(\n",
    "    search_type='similarity',\n",
    "    search_kwargs={\"k\":5, 'filter':{\"product_name\":\"Z플립\",}})"
   ]
  },
  {
   "cell_type": "markdown",
   "metadata": {},
   "source": [
    "# LLM Model"
   ]
  },
  {
   "cell_type": "code",
   "execution_count": 16,
   "metadata": {},
   "outputs": [],
   "source": [
    "LLM_PARAMS = {\n",
    "    \"decoding_method\": \"sample\",\n",
    "    \"temperature\": 0.99,\n",
    "    \"top_k\": 20,\n",
    "    \"top_p\": 0.5,\n",
    "    'repetition_penalty':1,\n",
    "    \"max_new_tokens\": 1000,\n",
    "    \"min_new_tokens\": 1,\n",
    "    \"stop_sequences\": ['<|eot_id|>', '<|end_of_text|>'],\n",
    "}"
   ]
  },
  {
   "cell_type": "code",
   "execution_count": 17,
   "metadata": {},
   "outputs": [],
   "source": [
    "chat = ChatWatsonx(\n",
    "    model_id='meta-llama/llama-3-1-8b-instruct',\n",
    "    url=os.getenv('IBM_CLOUD_URL'),\n",
    "    project_id=os.getenv('PROJECT_ID'),\n",
    "    apikey=\"t9oPtc-l3HMQH54UFeLvRfh5s_fnOg2az_C7Ss7mDiVT\",\n",
    "    params=LLM_PARAMS,\n",
    ")"
   ]
  },
  {
   "cell_type": "code",
   "execution_count": 18,
   "metadata": {},
   "outputs": [],
   "source": [
    "prompt=PromptTemplate.from_template(\"\"\"<|begin_of_text|><|start_header_id|>system<|end_header_id|> \n",
    "당신은 주어진 Context를 근거로 Question에 답변하는 assistant입니다.\n",
    "당신은 친절하고 사용자에게 도움이 되기 위해 성실히 응답은 해야합니다.\n",
    "아래 조건에 맞춰 답변해주세요.\n",
    "\n",
    "조건 :\n",
    "- User의 Context를 기반하여 답변하세요.\n",
    "- 해당 내용이 User의 Context에 없다면 \"현재 매뉴얼로 알 수 없습니다.\"라고 말해줘.\n",
    "- 답변은 최대 5문장 이내로 답변해주세요.\n",
    "<|eot_id|><|start_header_id|>user<|end_header_id|> \n",
    "\n",
    "Question: {question} \n",
    "\n",
    "Context: {context} \n",
    "\n",
    "<|eot_id|><|start_header_id|>assistant<|end_header_id|>\n",
    "\"\"\"\n",
    ")"
   ]
  },
  {
   "cell_type": "code",
   "execution_count": 19,
   "metadata": {},
   "outputs": [],
   "source": [
    "rag_chain = (\n",
    "    {\"context\": mmr_retriever, \"question\": RunnablePassthrough()}\n",
    "    | prompt\n",
    "    | chat\n",
    "    | StrOutputParser()\n",
    ")"
   ]
  },
  {
   "cell_type": "code",
   "execution_count": 20,
   "metadata": {},
   "outputs": [
    {
     "name": "stdout",
     "output_type": "stream",
     "text": [
      " 현재 매뉴얼로 알 수 없습니다.\n"
     ]
    }
   ],
   "source": [
    "print(rag_chain.invoke('오산에서 가까운 서비스 센터는'))"
   ]
  },
  {
   "cell_type": "code",
   "execution_count": null,
   "metadata": {},
   "outputs": [],
   "source": []
  }
 ],
 "metadata": {
  "kernelspec": {
   "display_name": "Python 3 (ipykernel)",
   "language": "python",
   "name": "python3"
  },
  "language_info": {
   "codemirror_mode": {
    "name": "ipython",
    "version": 3
   },
   "file_extension": ".py",
   "mimetype": "text/x-python",
   "name": "python",
   "nbconvert_exporter": "python",
   "pygments_lexer": "ipython3",
   "version": "3.11.6"
  }
 },
 "nbformat": 4,
 "nbformat_minor": 4
}
