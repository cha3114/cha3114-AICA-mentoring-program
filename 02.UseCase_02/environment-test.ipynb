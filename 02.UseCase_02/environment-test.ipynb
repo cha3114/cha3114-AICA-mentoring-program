{
 "cells": [
  {
   "cell_type": "markdown",
   "metadata": {},
   "source": [
    "## 1. 환경 셋업 테스트"
   ]
  },
  {
   "cell_type": "markdown",
   "metadata": {},
   "source": [
    "가상 환경이 제대로 구성되었는지 확인하기 위해 아래 셀을 실행합니다."
   ]
  },
  {
   "cell_type": "markdown",
   "metadata": {},
   "source": [
    "### Usecase_1,2 사용시 테스트"
   ]
  },
  {
   "cell_type": "code",
   "execution_count": null,
   "metadata": {
    "scrolled": true
   },
   "outputs": [],
   "source": [
    "from dotenv import load_dotenv\n",
    "from ibm_watsonx_ai import APIClient, Credentials\n",
    "import json\n",
    "from langchain import PromptTemplate\n",
    "import os\n",
    "import pandas as pd\n",
    "import requests\n",
    "import streamlit as st\n",
    "from typing import Optional, Any, Iterable, List\n",
    "\n",
    "print(\"오류 없이 이 메세지만 나타난다면 환경 셋업은 완료입니다.\")"
   ]
  },
  {
   "cell_type": "markdown",
   "metadata": {},
   "source": [
    "### Usecase_3 사용시 테스트"
   ]
  },
  {
   "cell_type": "markdown",
   "metadata": {},
   "source": [
    "## 2. 에러 여부를 확인\n",
    "위의 셀을 실행할 때 오류가 나타나지 않았다면 다음 단계를 진행할 수 있습니다.  \n",
    "오류가 나타나면 아래 작업들을 올바르게 수행했는지 확인해야 합니다.\n",
    "1. 필요 라이브러리 설치 여부 (로딩이 안되는 패키지의 경우)\n",
    "2. 가상 환경 활성화 여부 (패키지를 설치 하였으나 해당 패키지를 로드하지 못하는 경우)"
   ]
  },
  {
   "cell_type": "markdown",
   "metadata": {},
   "source": [
    "## 3. 환경 변수 세팅\n",
    "해당 작업을 통해 우리는 준비된 IBM Watson 서버에 접속하게 됩니다.  \n",
    "서버에 접속하기 위해서는 계정을 증명할 수 있는 API키들이 필요하며 다음과 같이 준비할 수 있습니다.  \n",
    "환경 셋업 문서를 확인하시고 아래 스크립트에 자신의 API KEY를 넣고 실행시켜주세요"
   ]
  },
  {
   "cell_type": "code",
   "execution_count": null,
   "metadata": {},
   "outputs": [],
   "source": [
    "CONTENT= \"\"\"\n",
    "API_KEY=<IBM_Cloud API KEY>\n",
    "IBM_CLOUD_URL=https://us-south.ml.cloud.ibm.com\n",
    "PROJECT_ID=<Watson.ai Project ID>\n",
    "\"\"\"\n",
    "\n",
    "with open(\".env\", \"w\") as f:\n",
    "    f.write(CONTENT)"
   ]
  },
  {
   "cell_type": "code",
   "execution_count": null,
   "metadata": {},
   "outputs": [],
   "source": [
    "load_dotenv()\n",
    "ibm_cloud_url = \"https://us-south.ml.cloud.ibm.com\" \n",
    "project_id=os.environ['PROJECT_ID']\n",
    "api_key = os.environ['API_KEY']\n",
    "\n",
    "creds = {\"url\": ibm_cloud_url,\"apikey\": api_key}\n",
    "client = APIClient(creds, project_id=project_id)\n",
    "client"
   ]
  }
 ],
 "metadata": {
  "kernelspec": {
   "display_name": "Python 3 (ipykernel)",
   "language": "python",
   "name": "python3"
  },
  "language_info": {
   "codemirror_mode": {
    "name": "ipython",
    "version": 3
   },
   "file_extension": ".py",
   "mimetype": "text/x-python",
   "name": "python",
   "nbconvert_exporter": "python",
   "pygments_lexer": "ipython3",
   "version": "3.11.6"
  }
 },
 "nbformat": 4,
 "nbformat_minor": 4
}
